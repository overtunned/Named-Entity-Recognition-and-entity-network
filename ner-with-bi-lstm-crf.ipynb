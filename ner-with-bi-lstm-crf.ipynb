{
  "nbformat": 4,
  "nbformat_minor": 0,
  "metadata": {
    "kernelspec": {
      "display_name": "Python 3",
      "language": "python",
      "name": "python3"
    },
    "language_info": {
      "codemirror_mode": {
        "name": "ipython",
        "version": 3
      },
      "file_extension": ".py",
      "mimetype": "text/x-python",
      "name": "python",
      "nbconvert_exporter": "python",
      "pygments_lexer": "ipython3",
      "version": "3.6.6"
    },
    "colab": {
      "name": "ner-with-bi-lstm-crf.ipynb",
      "provenance": [],
      "include_colab_link": true
    }
  },
  "cells": [
    {
      "cell_type": "markdown",
      "metadata": {
        "id": "view-in-github",
        "colab_type": "text"
      },
      "source": [
        "<a href=\"https://colab.research.google.com/github/overtunned/Named-Entity-Recognition-and-entity-network/blob/main/ner-with-bi-lstm-crf.ipynb\" target=\"_parent\"><img src=\"https://colab.research.google.com/assets/colab-badge.svg\" alt=\"Open In Colab\"/></a>"
      ]
    },
    {
      "cell_type": "code",
      "metadata": {
        "id": "5nGh_LTPR5C7",
        "outputId": "329a326a-a432-451b-d550-316d8727f91b",
        "colab": {
          "base_uri": "https://localhost:8080/"
        }
      },
      "source": [
        "!git clone https://github.com/overtunned/Named-Entity-Recognition-and-entity-network.git"
      ],
      "execution_count": 1,
      "outputs": [
        {
          "output_type": "stream",
          "text": [
            "Cloning into 'Named-Entity-Recognition-and-entity-network'...\n",
            "remote: Enumerating objects: 17, done.\u001b[K\n",
            "remote: Counting objects: 100% (17/17), done.\u001b[K\n",
            "remote: Compressing objects: 100% (14/14), done.\u001b[K\n",
            "remote: Total 17 (delta 5), reused 4 (delta 0), pack-reused 0\u001b[K\n",
            "Unpacking objects: 100% (17/17), done.\n"
          ],
          "name": "stdout"
        }
      ]
    },
    {
      "cell_type": "code",
      "metadata": {
        "_cell_guid": "79c7e3d0-c299-4dcb-8224-4455121ee9b0",
        "_uuid": "d629ff2d2480ee46fbb7e2d37f6b5fab8052498a",
        "id": "KG4GcUbbQ0CC"
      },
      "source": [
        "import pandas as pd\n",
        "import numpy as np\n",
        "import re\n",
        "import string\n",
        "\n",
        "data = pd.read_csv(\"/content/Named-Entity-Recognition-and-entity-network/Dataset/ner_dataset.csv\", encoding=\"latin1\")"
      ],
      "execution_count": 2,
      "outputs": []
    },
    {
      "cell_type": "code",
      "metadata": {
        "id": "XljdR87ZQ0CG"
      },
      "source": [
        "data = data.fillna(method=\"ffill\")"
      ],
      "execution_count": 3,
      "outputs": []
    },
    {
      "cell_type": "code",
      "metadata": {
        "id": "ecSPONHKQ0CJ",
        "outputId": "ad857238-b617-478a-d36b-764a807e8ec4",
        "colab": {
          "base_uri": "https://localhost:8080/",
          "height": 639
        }
      },
      "source": [
        "data.head(20)"
      ],
      "execution_count": 4,
      "outputs": [
        {
          "output_type": "execute_result",
          "data": {
            "text/html": [
              "<div>\n",
              "<style scoped>\n",
              "    .dataframe tbody tr th:only-of-type {\n",
              "        vertical-align: middle;\n",
              "    }\n",
              "\n",
              "    .dataframe tbody tr th {\n",
              "        vertical-align: top;\n",
              "    }\n",
              "\n",
              "    .dataframe thead th {\n",
              "        text-align: right;\n",
              "    }\n",
              "</style>\n",
              "<table border=\"1\" class=\"dataframe\">\n",
              "  <thead>\n",
              "    <tr style=\"text-align: right;\">\n",
              "      <th></th>\n",
              "      <th>Sentence #</th>\n",
              "      <th>Word</th>\n",
              "      <th>POS</th>\n",
              "      <th>Tag</th>\n",
              "    </tr>\n",
              "  </thead>\n",
              "  <tbody>\n",
              "    <tr>\n",
              "      <th>0</th>\n",
              "      <td>Sentence: 1</td>\n",
              "      <td>Thousands</td>\n",
              "      <td>NNS</td>\n",
              "      <td>O</td>\n",
              "    </tr>\n",
              "    <tr>\n",
              "      <th>1</th>\n",
              "      <td>Sentence: 1</td>\n",
              "      <td>of</td>\n",
              "      <td>IN</td>\n",
              "      <td>O</td>\n",
              "    </tr>\n",
              "    <tr>\n",
              "      <th>2</th>\n",
              "      <td>Sentence: 1</td>\n",
              "      <td>demonstrators</td>\n",
              "      <td>NNS</td>\n",
              "      <td>O</td>\n",
              "    </tr>\n",
              "    <tr>\n",
              "      <th>3</th>\n",
              "      <td>Sentence: 1</td>\n",
              "      <td>have</td>\n",
              "      <td>VBP</td>\n",
              "      <td>O</td>\n",
              "    </tr>\n",
              "    <tr>\n",
              "      <th>4</th>\n",
              "      <td>Sentence: 1</td>\n",
              "      <td>marched</td>\n",
              "      <td>VBN</td>\n",
              "      <td>O</td>\n",
              "    </tr>\n",
              "    <tr>\n",
              "      <th>5</th>\n",
              "      <td>Sentence: 1</td>\n",
              "      <td>through</td>\n",
              "      <td>IN</td>\n",
              "      <td>O</td>\n",
              "    </tr>\n",
              "    <tr>\n",
              "      <th>6</th>\n",
              "      <td>Sentence: 1</td>\n",
              "      <td>London</td>\n",
              "      <td>NNP</td>\n",
              "      <td>B-geo</td>\n",
              "    </tr>\n",
              "    <tr>\n",
              "      <th>7</th>\n",
              "      <td>Sentence: 1</td>\n",
              "      <td>to</td>\n",
              "      <td>TO</td>\n",
              "      <td>O</td>\n",
              "    </tr>\n",
              "    <tr>\n",
              "      <th>8</th>\n",
              "      <td>Sentence: 1</td>\n",
              "      <td>protest</td>\n",
              "      <td>VB</td>\n",
              "      <td>O</td>\n",
              "    </tr>\n",
              "    <tr>\n",
              "      <th>9</th>\n",
              "      <td>Sentence: 1</td>\n",
              "      <td>the</td>\n",
              "      <td>DT</td>\n",
              "      <td>O</td>\n",
              "    </tr>\n",
              "    <tr>\n",
              "      <th>10</th>\n",
              "      <td>Sentence: 1</td>\n",
              "      <td>war</td>\n",
              "      <td>NN</td>\n",
              "      <td>O</td>\n",
              "    </tr>\n",
              "    <tr>\n",
              "      <th>11</th>\n",
              "      <td>Sentence: 1</td>\n",
              "      <td>in</td>\n",
              "      <td>IN</td>\n",
              "      <td>O</td>\n",
              "    </tr>\n",
              "    <tr>\n",
              "      <th>12</th>\n",
              "      <td>Sentence: 1</td>\n",
              "      <td>Iraq</td>\n",
              "      <td>NNP</td>\n",
              "      <td>B-geo</td>\n",
              "    </tr>\n",
              "    <tr>\n",
              "      <th>13</th>\n",
              "      <td>Sentence: 1</td>\n",
              "      <td>and</td>\n",
              "      <td>CC</td>\n",
              "      <td>O</td>\n",
              "    </tr>\n",
              "    <tr>\n",
              "      <th>14</th>\n",
              "      <td>Sentence: 1</td>\n",
              "      <td>demand</td>\n",
              "      <td>VB</td>\n",
              "      <td>O</td>\n",
              "    </tr>\n",
              "    <tr>\n",
              "      <th>15</th>\n",
              "      <td>Sentence: 1</td>\n",
              "      <td>the</td>\n",
              "      <td>DT</td>\n",
              "      <td>O</td>\n",
              "    </tr>\n",
              "    <tr>\n",
              "      <th>16</th>\n",
              "      <td>Sentence: 1</td>\n",
              "      <td>withdrawal</td>\n",
              "      <td>NN</td>\n",
              "      <td>O</td>\n",
              "    </tr>\n",
              "    <tr>\n",
              "      <th>17</th>\n",
              "      <td>Sentence: 1</td>\n",
              "      <td>of</td>\n",
              "      <td>IN</td>\n",
              "      <td>O</td>\n",
              "    </tr>\n",
              "    <tr>\n",
              "      <th>18</th>\n",
              "      <td>Sentence: 1</td>\n",
              "      <td>British</td>\n",
              "      <td>JJ</td>\n",
              "      <td>B-gpe</td>\n",
              "    </tr>\n",
              "    <tr>\n",
              "      <th>19</th>\n",
              "      <td>Sentence: 1</td>\n",
              "      <td>troops</td>\n",
              "      <td>NNS</td>\n",
              "      <td>O</td>\n",
              "    </tr>\n",
              "  </tbody>\n",
              "</table>\n",
              "</div>"
            ],
            "text/plain": [
              "     Sentence #           Word  POS    Tag\n",
              "0   Sentence: 1      Thousands  NNS      O\n",
              "1   Sentence: 1             of   IN      O\n",
              "2   Sentence: 1  demonstrators  NNS      O\n",
              "3   Sentence: 1           have  VBP      O\n",
              "4   Sentence: 1        marched  VBN      O\n",
              "5   Sentence: 1        through   IN      O\n",
              "6   Sentence: 1         London  NNP  B-geo\n",
              "7   Sentence: 1             to   TO      O\n",
              "8   Sentence: 1        protest   VB      O\n",
              "9   Sentence: 1            the   DT      O\n",
              "10  Sentence: 1            war   NN      O\n",
              "11  Sentence: 1             in   IN      O\n",
              "12  Sentence: 1           Iraq  NNP  B-geo\n",
              "13  Sentence: 1            and   CC      O\n",
              "14  Sentence: 1         demand   VB      O\n",
              "15  Sentence: 1            the   DT      O\n",
              "16  Sentence: 1     withdrawal   NN      O\n",
              "17  Sentence: 1             of   IN      O\n",
              "18  Sentence: 1        British   JJ  B-gpe\n",
              "19  Sentence: 1         troops  NNS      O"
            ]
          },
          "metadata": {
            "tags": []
          },
          "execution_count": 4
        }
      ]
    },
    {
      "cell_type": "code",
      "metadata": {
        "id": "UsB8tR9fQ0CK",
        "outputId": "f7b823cc-aa54-4054-e631-0ae898f9bcc8",
        "colab": {
          "base_uri": "https://localhost:8080/"
        }
      },
      "source": [
        "words = list(set(data[\"Word\"].values))\n",
        "words.append(\"ENDPAD\")\n",
        "n_words = len(words); n_words"
      ],
      "execution_count": 5,
      "outputs": [
        {
          "output_type": "execute_result",
          "data": {
            "text/plain": [
              "35179"
            ]
          },
          "metadata": {
            "tags": []
          },
          "execution_count": 5
        }
      ]
    },
    {
      "cell_type": "code",
      "metadata": {
        "id": "0n7AMrfIQ0CL",
        "outputId": "1536ffe3-0582-4ae3-ed4f-c8783d41abb1",
        "colab": {
          "base_uri": "https://localhost:8080/"
        }
      },
      "source": [
        "tags = list(set(data[\"Tag\"].values))\n",
        "n_tags = len(tags); n_tags"
      ],
      "execution_count": 6,
      "outputs": [
        {
          "output_type": "execute_result",
          "data": {
            "text/plain": [
              "17"
            ]
          },
          "metadata": {
            "tags": []
          },
          "execution_count": 6
        }
      ]
    },
    {
      "cell_type": "code",
      "metadata": {
        "id": "SWwvKxIIQ0CL"
      },
      "source": [
        "class SentenceGetter(object):\n",
        "    \n",
        "    def __init__(self, data):\n",
        "        self.n_sent = 1\n",
        "        self.data = data\n",
        "        self.empty = False\n",
        "        agg_func = lambda s: [(w, p, t) for w, p, t in zip(s[\"Word\"].values.tolist(),\n",
        "                                                           s[\"POS\"].values.tolist(),\n",
        "                                                           s[\"Tag\"].values.tolist())]\n",
        "        self.grouped = self.data.groupby(\"Sentence #\").apply(agg_func)\n",
        "        self.sentences = [s for s in self.grouped]\n",
        "    \n",
        "    def get_next(self):\n",
        "        try:\n",
        "            s = self.grouped[\"Sentence: {}\".format(self.n_sent)]\n",
        "            self.n_sent += 1\n",
        "            return s\n",
        "        except:\n",
        "            return None"
      ],
      "execution_count": 7,
      "outputs": []
    },
    {
      "cell_type": "code",
      "metadata": {
        "id": "P-XmXOOgQ0CM"
      },
      "source": [
        "getter = SentenceGetter(data)"
      ],
      "execution_count": 8,
      "outputs": []
    },
    {
      "cell_type": "code",
      "metadata": {
        "id": "8OtTgQkNQ0CN"
      },
      "source": [
        "sent = getter.get_next()"
      ],
      "execution_count": 9,
      "outputs": []
    },
    {
      "cell_type": "code",
      "metadata": {
        "id": "8p_Z5IKYQ0CN",
        "outputId": "2fcdd65c-30a5-48b6-966f-5481b02807a4",
        "colab": {
          "base_uri": "https://localhost:8080/"
        }
      },
      "source": [
        "print(sent)"
      ],
      "execution_count": 10,
      "outputs": [
        {
          "output_type": "stream",
          "text": [
            "[('Thousands', 'NNS', 'O'), ('of', 'IN', 'O'), ('demonstrators', 'NNS', 'O'), ('have', 'VBP', 'O'), ('marched', 'VBN', 'O'), ('through', 'IN', 'O'), ('London', 'NNP', 'B-geo'), ('to', 'TO', 'O'), ('protest', 'VB', 'O'), ('the', 'DT', 'O'), ('war', 'NN', 'O'), ('in', 'IN', 'O'), ('Iraq', 'NNP', 'B-geo'), ('and', 'CC', 'O'), ('demand', 'VB', 'O'), ('the', 'DT', 'O'), ('withdrawal', 'NN', 'O'), ('of', 'IN', 'O'), ('British', 'JJ', 'B-gpe'), ('troops', 'NNS', 'O'), ('from', 'IN', 'O'), ('that', 'DT', 'O'), ('country', 'NN', 'O'), ('.', '.', 'O')]\n"
          ],
          "name": "stdout"
        }
      ]
    },
    {
      "cell_type": "code",
      "metadata": {
        "id": "Kol3ZTqDQ0CN"
      },
      "source": [
        "sentences = getter.sentences"
      ],
      "execution_count": 11,
      "outputs": []
    },
    {
      "cell_type": "markdown",
      "metadata": {
        "id": "C-cJVXNXQ0CO"
      },
      "source": [
        "## Prepare the data\n",
        "Now we introduce dictionaries of words and tags."
      ]
    },
    {
      "cell_type": "code",
      "metadata": {
        "id": "vedmgc_MQ0CO"
      },
      "source": [
        "max_len = 75\n",
        "word2idx = {w: i + 1 for i, w in enumerate(words)}\n",
        "tag2idx = {t: i for i, t in enumerate(tags)}"
      ],
      "execution_count": 12,
      "outputs": []
    },
    {
      "cell_type": "code",
      "metadata": {
        "id": "uWEJWJvJQ0CO",
        "outputId": "d9063042-243b-4ed4-e43c-af810eb36f70",
        "colab": {
          "base_uri": "https://localhost:8080/"
        }
      },
      "source": [
        "word2idx[\"Obama\"]"
      ],
      "execution_count": 13,
      "outputs": [
        {
          "output_type": "execute_result",
          "data": {
            "text/plain": [
              "32357"
            ]
          },
          "metadata": {
            "tags": []
          },
          "execution_count": 13
        }
      ]
    },
    {
      "cell_type": "code",
      "metadata": {
        "id": "Hi3XTnbHQ0CP",
        "outputId": "827c0dcb-8dce-4088-80a0-f6ea830ab2b8",
        "colab": {
          "base_uri": "https://localhost:8080/"
        }
      },
      "source": [
        "tag2idx[\"B-geo\"]"
      ],
      "execution_count": 14,
      "outputs": [
        {
          "output_type": "execute_result",
          "data": {
            "text/plain": [
              "7"
            ]
          },
          "metadata": {
            "tags": []
          },
          "execution_count": 14
        }
      ]
    },
    {
      "cell_type": "code",
      "metadata": {
        "id": "6e9-E2sIQ0CP"
      },
      "source": [
        "from keras.preprocessing.sequence import pad_sequences\n",
        "\n",
        "# pad the sequence\n",
        "X = [[word2idx[w[0]] for w in s] for s in sentences]\n",
        "X = pad_sequences(maxlen=max_len, sequences=X, padding=\"post\", value=n_words-1)"
      ],
      "execution_count": 15,
      "outputs": []
    },
    {
      "cell_type": "code",
      "metadata": {
        "id": "IAmKJR8vQ0CP"
      },
      "source": [
        "# pad the target\n",
        "y = [[tag2idx[w[2]] for w in s] for s in sentences]\n",
        "y = pad_sequences(maxlen=max_len, sequences=y, padding=\"post\", value=tag2idx[\"O\"])"
      ],
      "execution_count": 16,
      "outputs": []
    },
    {
      "cell_type": "code",
      "metadata": {
        "id": "nyYDRqEjQ0CQ"
      },
      "source": [
        "from keras.utils.np_utils import to_categorical\n",
        "y = [to_categorical(i, num_classes=n_tags) for i in y]\n",
        "from sklearn.model_selection import train_test_split\n",
        "X_tr, X_te, y_tr, y_te = train_test_split(X, y, test_size=0.1)"
      ],
      "execution_count": 20,
      "outputs": []
    },
    {
      "cell_type": "markdown",
      "metadata": {
        "id": "KIQODc_AQ0CQ"
      },
      "source": [
        "## Setup the CRF-LSTM\n",
        "Now we can fit a LSTM-CRF network with an embedding layer.\n",
        "\n"
      ]
    },
    {
      "cell_type": "code",
      "metadata": {
        "_kg_hide-output": true,
        "id": "aXcAGYrBQ0CR",
        "outputId": "9a6e4762-73c1-4ca6-c3e1-d5ac9fed64e8",
        "colab": {
          "base_uri": "https://localhost:8080/"
        }
      },
      "source": [
        "!pip install git+https://www.github.com/keras-team/keras-contrib.git"
      ],
      "execution_count": 21,
      "outputs": [
        {
          "output_type": "stream",
          "text": [
            "Collecting git+https://www.github.com/keras-team/keras-contrib.git\n",
            "  Cloning https://www.github.com/keras-team/keras-contrib.git to /tmp/pip-req-build-gwbdrmpj\n",
            "  Running command git clone -q https://www.github.com/keras-team/keras-contrib.git /tmp/pip-req-build-gwbdrmpj\n",
            "Requirement already satisfied: keras in /usr/local/lib/python3.7/dist-packages (from keras-contrib==2.0.8) (2.4.3)\n",
            "Requirement already satisfied: h5py in /usr/local/lib/python3.7/dist-packages (from keras->keras-contrib==2.0.8) (3.1.0)\n",
            "Requirement already satisfied: numpy>=1.9.1 in /usr/local/lib/python3.7/dist-packages (from keras->keras-contrib==2.0.8) (1.19.5)\n",
            "Requirement already satisfied: pyyaml in /usr/local/lib/python3.7/dist-packages (from keras->keras-contrib==2.0.8) (3.13)\n",
            "Requirement already satisfied: scipy>=0.14 in /usr/local/lib/python3.7/dist-packages (from keras->keras-contrib==2.0.8) (1.4.1)\n",
            "Requirement already satisfied: cached-property; python_version < \"3.8\" in /usr/local/lib/python3.7/dist-packages (from h5py->keras->keras-contrib==2.0.8) (1.5.2)\n",
            "Building wheels for collected packages: keras-contrib\n",
            "  Building wheel for keras-contrib (setup.py) ... \u001b[?25l\u001b[?25hdone\n",
            "  Created wheel for keras-contrib: filename=keras_contrib-2.0.8-cp37-none-any.whl size=101065 sha256=0f9c3116d5e7eabb2ac8831a6b9093d88833627bc7a139c522f8f0d2dc064fa7\n",
            "  Stored in directory: /tmp/pip-ephem-wheel-cache-m3djxna9/wheels/11/27/c8/4ed56de7b55f4f61244e2dc6ef3cdbaff2692527a2ce6502ba\n",
            "Successfully built keras-contrib\n",
            "Installing collected packages: keras-contrib\n",
            "Successfully installed keras-contrib-2.0.8\n"
          ],
          "name": "stdout"
        }
      ]
    },
    {
      "cell_type": "code",
      "metadata": {
        "id": "5ch3b44wQ0CR"
      },
      "source": [
        "from keras.models import Model, Input,Sequential\n",
        "from keras.layers import LSTM, Embedding, Dense, TimeDistributed, Dropout, Bidirectional\n",
        "from keras_contrib.layers import CRF\n",
        "import keras as k"
      ],
      "execution_count": 22,
      "outputs": []
    },
    {
      "cell_type": "code",
      "metadata": {
        "id": "DH0u0HTTQ0CR",
        "outputId": "c522edc3-cca4-49d2-b030-35a0e6230e1d",
        "colab": {
          "base_uri": "https://localhost:8080/"
        }
      },
      "source": [
        "print(k.__version__)"
      ],
      "execution_count": 23,
      "outputs": [
        {
          "output_type": "stream",
          "text": [
            "2.5.0\n"
          ],
          "name": "stdout"
        }
      ]
    },
    {
      "cell_type": "code",
      "metadata": {
        "id": "pUDStPtcQ0CS"
      },
      "source": [
        "model = Sequential()\n",
        "model.add(Embedding(input_dim=n_words+1, output_dim=200, input_length=max_len))\n",
        "model.add(Dropout(0.5))\n",
        "model.add(Bidirectional(LSTM(units=128, return_sequences=True, recurrent_dropout=0.1)))\n",
        "model.add(TimeDistributed(Dense(n_tags, activation=\"relu\")))\n",
        "crf_layer = CRF(n_tags)\n",
        "model.add(crf_layer)"
      ],
      "execution_count": 24,
      "outputs": []
    },
    {
      "cell_type": "code",
      "metadata": {
        "id": "19XGM0q7Q0CS",
        "outputId": "c5974614-1401-42cc-95b6-b10509114407",
        "colab": {
          "base_uri": "https://localhost:8080/"
        }
      },
      "source": [
        "model.summary()"
      ],
      "execution_count": 25,
      "outputs": [
        {
          "output_type": "stream",
          "text": [
            "Model: \"sequential\"\n",
            "_________________________________________________________________\n",
            "Layer (type)                 Output Shape              Param #   \n",
            "=================================================================\n",
            "embedding (Embedding)        (None, 75, 200)           7036000   \n",
            "_________________________________________________________________\n",
            "dropout (Dropout)            (None, 75, 200)           0         \n",
            "_________________________________________________________________\n",
            "bidirectional (Bidirectional (None, 75, 256)           336896    \n",
            "_________________________________________________________________\n",
            "time_distributed (TimeDistri (None, 75, 17)            4369      \n",
            "_________________________________________________________________\n",
            "crf (CRF)                    (None, 75, 17)            629       \n",
            "=================================================================\n",
            "Total params: 7,377,894\n",
            "Trainable params: 7,377,894\n",
            "Non-trainable params: 0\n",
            "_________________________________________________________________\n"
          ],
          "name": "stdout"
        }
      ]
    },
    {
      "cell_type": "code",
      "metadata": {
        "_kg_hide-output": true,
        "id": "qX4hwW0bQ0CS",
        "outputId": "4563708e-6314-4171-9f9b-8f23ed32e0d7",
        "colab": {
          "base_uri": "https://localhost:8080/"
        }
      },
      "source": [
        "# adam = k.optimizers.Adam(lr=0.0005, beta_1=0.9, beta_2=0.999)\n",
        "model.compile(optimizer='adam', loss=crf_layer.loss_function, metrics=[crf_layer.accuracy])"
      ],
      "execution_count": 28,
      "outputs": [
        {
          "output_type": "stream",
          "text": [
            "/usr/local/lib/python3.7/dist-packages/keras_contrib/layers/crf.py:346: UserWarning: CRF.loss_function is deprecated and it might be removed in the future. Please use losses.crf_loss instead.\n",
            "  warnings.warn('CRF.loss_function is deprecated '\n",
            "/usr/local/lib/python3.7/dist-packages/keras_contrib/layers/crf.py:353: UserWarning: CRF.accuracy is deprecated and it might be removed in the future. Please use metrics.crf_accuracy\n",
            "  warnings.warn('CRF.accuracy is deprecated and it '\n"
          ],
          "name": "stderr"
        }
      ]
    },
    {
      "cell_type": "code",
      "metadata": {
        "id": "DIjzwZcAQ0CT",
        "outputId": "39881565-b8f6-42d6-a63c-d6e52ef32dbc"
      },
      "source": [
        "history = model.fit(X_tr, np.array(y_tr), batch_size=128, epochs=5,\n",
        "                    validation_split=0.1, verbose=1)"
      ],
      "execution_count": null,
      "outputs": [
        {
          "output_type": "stream",
          "text": [
            "/opt/conda/lib/python3.6/site-packages/tensorflow_core/python/framework/indexed_slices.py:433: UserWarning: Converting sparse IndexedSlices to a dense Tensor of unknown shape. This may consume a large amount of memory.\n",
            "  \"Converting sparse IndexedSlices to a dense Tensor of unknown shape. \"\n"
          ],
          "name": "stderr"
        },
        {
          "output_type": "stream",
          "text": [
            "Train on 38847 samples, validate on 4317 samples\n",
            "Epoch 1/5\n",
            "38847/38847 [==============================] - 76s 2ms/step - loss: 0.3055 - crf_viterbi_accuracy: 0.9276 - val_loss: 0.0855 - val_crf_viterbi_accuracy: 0.9732\n",
            "Epoch 2/5\n",
            "38847/38847 [==============================] - 73s 2ms/step - loss: 0.0626 - crf_viterbi_accuracy: 0.9789 - val_loss: 0.0457 - val_crf_viterbi_accuracy: 0.9842\n",
            "Epoch 3/5\n",
            "38847/38847 [==============================] - 73s 2ms/step - loss: 0.0300 - crf_viterbi_accuracy: 0.9877 - val_loss: 0.0251 - val_crf_viterbi_accuracy: 0.9877\n",
            "Epoch 4/5\n",
            "38847/38847 [==============================] - 72s 2ms/step - loss: 0.0134 - crf_viterbi_accuracy: 0.9906 - val_loss: 0.0150 - val_crf_viterbi_accuracy: 0.9888\n",
            "Epoch 5/5\n",
            "38847/38847 [==============================] - 68s 2ms/step - loss: 0.0033 - crf_viterbi_accuracy: 0.9919 - val_loss: 0.0077 - val_crf_viterbi_accuracy: 0.9893\n"
          ],
          "name": "stdout"
        }
      ]
    },
    {
      "cell_type": "code",
      "metadata": {
        "id": "X1urEZmXQ0CT"
      },
      "source": [
        "hist = pd.DataFrame(history.history)"
      ],
      "execution_count": null,
      "outputs": []
    },
    {
      "cell_type": "code",
      "metadata": {
        "id": "ATRFxFpjQ0CT",
        "outputId": "a3e214a7-10de-4a80-849e-4d0e9eed9935"
      },
      "source": [
        "import matplotlib.pyplot as plt\n",
        "plt.style.use(\"ggplot\")\n",
        "plt.figure(figsize=(12,12))\n",
        "plt.plot(hist[\"crf_viterbi_accuracy\"])\n",
        "plt.plot(hist[\"val_crf_viterbi_accuracy\"])\n",
        "plt.show()"
      ],
      "execution_count": null,
      "outputs": [
        {
          "output_type": "display_data",
          "data": {
            "image/png": "[encoded data removed]",
            "text/plain": [
              "<Figure size 864x864 with 1 Axes>"
            ]
          },
          "metadata": {
            "tags": []
          }
        }
      ]
    },
    {
      "cell_type": "code",
      "metadata": {
        "_kg_hide-output": true,
        "id": "nbHZV24iQ0CU",
        "outputId": "79a6a6dc-1605-41ac-88ef-265bafb324af"
      },
      "source": [
        "!pip install seqeval"
      ],
      "execution_count": null,
      "outputs": [
        {
          "output_type": "stream",
          "text": [
            "Collecting seqeval\r\n",
            "\u001b[?25l  Downloading https://files.pythonhosted.org/packages/9d/2d/233c79d5b4e5ab1dbf111242299153f3caddddbb691219f363ad55ce783d/seqeval-1.2.2.tar.gz (43kB)\r\n",
            "\u001b[K     |████████████████████████████████| 51kB 1.5MB/s \r\n",
            "\u001b[?25hRequirement already satisfied: numpy>=1.14.0 in /opt/conda/lib/python3.6/site-packages (from seqeval) (1.17.4)\r\n",
            "Requirement already satisfied: scikit-learn>=0.21.3 in /opt/conda/lib/python3.6/site-packages (from seqeval) (0.21.3)\r\n",
            "Requirement already satisfied: joblib>=0.11 in /opt/conda/lib/python3.6/site-packages (from scikit-learn>=0.21.3->seqeval) (0.14.0)\r\n",
            "Requirement already satisfied: scipy>=0.17.0 in /opt/conda/lib/python3.6/site-packages (from scikit-learn>=0.21.3->seqeval) (1.3.3)\r\n",
            "Building wheels for collected packages: seqeval\r\n",
            "  Building wheel for seqeval (setup.py) ... \u001b[?25l-\b \b\\\b \bdone\r\n",
            "\u001b[?25h  Created wheel for seqeval: filename=seqeval-1.2.2-cp36-none-any.whl size=16172 sha256=8f7a9a4ea4218357f6c88526d05e95df8f1155f1a8456cb6049a15ba09571480\r\n",
            "  Stored in directory: /root/.cache/pip/wheels/52/df/1b/45d75646c37428f7e626214704a0e35bd3cfc32eda37e59e5f\r\n",
            "Successfully built seqeval\r\n",
            "Installing collected packages: seqeval\r\n",
            "Successfully installed seqeval-1.2.2\r\n"
          ],
          "name": "stdout"
        }
      ]
    },
    {
      "cell_type": "code",
      "metadata": {
        "id": "Aez-wxzKQ0CU"
      },
      "source": [
        "from seqeval.metrics import precision_score, recall_score, f1_score, classification_report"
      ],
      "execution_count": null,
      "outputs": []
    },
    {
      "cell_type": "code",
      "metadata": {
        "id": "sqxuRyCuQ0CV",
        "outputId": "76b9ba80-b8f2-4cbb-8671-97648065778c"
      },
      "source": [
        "test_pred = model.predict(X_te, verbose=1)"
      ],
      "execution_count": null,
      "outputs": [
        {
          "output_type": "stream",
          "text": [
            "4797/4797 [==============================] - 8s 2ms/step\n"
          ],
          "name": "stdout"
        }
      ]
    },
    {
      "cell_type": "code",
      "metadata": {
        "id": "xztnlSOuQ0CV"
      },
      "source": [
        "idx2tag = {i: w for w, i in tag2idx.items()}\n",
        "\n",
        "def pred2label(pred):\n",
        "    out = []\n",
        "    for pred_i in pred:\n",
        "        out_i = []\n",
        "        for p in pred_i:\n",
        "            p_i = np.argmax(p)\n",
        "            out_i.append(idx2tag[p_i].replace(\"PAD\", \"O\"))\n",
        "        out.append(out_i)\n",
        "    return out\n",
        "    \n",
        "pred_labels = pred2label(test_pred)\n",
        "test_labels = pred2label(y_te)"
      ],
      "execution_count": null,
      "outputs": []
    },
    {
      "cell_type": "code",
      "metadata": {
        "id": "Qd-9v8COQ0CW",
        "outputId": "ae51aff3-5eec-4e20-8bb1-59f0695f98aa"
      },
      "source": [
        "print(\"F1-score: {:.1%}\".format(f1_score(test_labels, pred_labels)))\n"
      ],
      "execution_count": null,
      "outputs": [
        {
          "output_type": "stream",
          "text": [
            "F1-score: 80.6%\n"
          ],
          "name": "stdout"
        }
      ]
    },
    {
      "cell_type": "code",
      "metadata": {
        "id": "q85qIf-iQ0CW",
        "outputId": "6064105f-6efe-46c8-aa58-4269924fd185"
      },
      "source": [
        "print(classification_report(test_labels, pred_labels))"
      ],
      "execution_count": null,
      "outputs": [
        {
          "output_type": "stream",
          "text": [
            "/opt/conda/lib/python3.6/site-packages/seqeval/metrics/v1.py:57: UndefinedMetricWarning: Precision and F-score are ill-defined and being set to 0.0 in labels with no predicted samples. Use `zero_division` parameter to control this behavior.\n",
            "  _warn_prf(average, modifier, msg_start, len(result))\n"
          ],
          "name": "stderr"
        },
        {
          "output_type": "stream",
          "text": [
            "              precision    recall  f1-score   support\n",
            "\n",
            "         art       0.00      0.00      0.00        42\n",
            "         eve       0.00      0.00      0.00        32\n",
            "         geo       0.84      0.88      0.86      3718\n",
            "         gpe       0.95      0.93      0.94      1583\n",
            "         nat       0.00      0.00      0.00        17\n",
            "         org       0.68      0.64      0.66      2028\n",
            "         per       0.75      0.71      0.73      1814\n",
            "         tim       0.89      0.80      0.84      2003\n",
            "\n",
            "   micro avg       0.82      0.79      0.81     11237\n",
            "   macro avg       0.51      0.49      0.50     11237\n",
            "weighted avg       0.81      0.79      0.80     11237\n",
            "\n"
          ],
          "name": "stdout"
        }
      ]
    },
    {
      "cell_type": "code",
      "metadata": {
        "id": "q_hyjLYXQ0CW",
        "outputId": "f0c95b3c-1027-43d5-e087-8008c275247b"
      },
      "source": [
        "model.evaluate(X_te, np.array(y_te))"
      ],
      "execution_count": null,
      "outputs": [
        {
          "output_type": "stream",
          "text": [
            "4797/4797 [==============================] - 9s 2ms/step\n"
          ],
          "name": "stdout"
        },
        {
          "output_type": "execute_result",
          "data": {
            "text/plain": [
              "[0.006730068376381397, 0.9893738627433777]"
            ]
          },
          "metadata": {
            "tags": []
          },
          "execution_count": 36
        }
      ]
    },
    {
      "cell_type": "code",
      "metadata": {
        "id": "44LT9kqIQ0CX",
        "outputId": "40e28ba1-fc85-4814-e708-654d277ea911"
      },
      "source": [
        "i = 1927\n",
        "p = model.predict(np.array([X_te[i]]))\n",
        "p = np.argmax(p, axis=-1)\n",
        "true = np.argmax(y_te[i], -1)\n",
        "print(\"{:15}||{:5}||{}\".format(\"Word\", \"True\", \"Pred\"))\n",
        "print(30 * \"=\")\n",
        "for w, t, pred in zip(X_te[i], true, p[0]):\n",
        "    if w != 0:\n",
        "        print(\"{:15}: {:5} {}\".format(words[w-1], tags[t], tags[pred]))"
      ],
      "execution_count": null,
      "outputs": [
        {
          "output_type": "stream",
          "text": [
            "Word           ||True ||Pred\n",
            "==============================\n",
            "Jankovic       : B-org B-per\n",
            "is             : O     O\n",
            "the            : O     O\n",
            "second         : O     O\n",
            "war            : O     O\n",
            "crimes         : O     O\n",
            "suspect        : O     O\n",
            "to             : O     O\n",
            "be             : O     O\n",
            "transferred    : O     O\n",
            "from           : O     O\n",
            "The            : B-org B-org\n",
            "Hague          : I-org I-org\n",
            "Tribunal       : I-org I-org\n",
            "to             : O     O\n",
            "Bosnia         : B-geo B-geo\n",
            "'s             : O     O\n",
            "war            : O     O\n",
            "crimes         : O     O\n",
            "court          : O     O\n",
            ".              : O     O\n",
            "Mobutu         : O     O\n",
            "Mobutu         : O     O\n",
            "Mobutu         : O     O\n",
            "Mobutu         : O     O\n",
            "Mobutu         : O     O\n",
            "Mobutu         : O     O\n",
            "Mobutu         : O     O\n",
            "Mobutu         : O     O\n",
            "Mobutu         : O     O\n",
            "Mobutu         : O     O\n",
            "Mobutu         : O     O\n",
            "Mobutu         : O     O\n",
            "Mobutu         : O     O\n",
            "Mobutu         : O     O\n",
            "Mobutu         : O     O\n",
            "Mobutu         : O     O\n",
            "Mobutu         : O     O\n",
            "Mobutu         : O     O\n",
            "Mobutu         : O     O\n",
            "Mobutu         : O     O\n",
            "Mobutu         : O     O\n",
            "Mobutu         : O     O\n",
            "Mobutu         : O     O\n",
            "Mobutu         : O     O\n",
            "Mobutu         : O     O\n",
            "Mobutu         : O     O\n",
            "Mobutu         : O     O\n",
            "Mobutu         : O     O\n",
            "Mobutu         : O     O\n",
            "Mobutu         : O     O\n",
            "Mobutu         : O     O\n",
            "Mobutu         : O     O\n",
            "Mobutu         : O     O\n",
            "Mobutu         : O     O\n",
            "Mobutu         : O     O\n",
            "Mobutu         : O     O\n",
            "Mobutu         : O     O\n",
            "Mobutu         : O     O\n",
            "Mobutu         : O     O\n",
            "Mobutu         : O     O\n",
            "Mobutu         : O     O\n",
            "Mobutu         : O     O\n",
            "Mobutu         : O     O\n",
            "Mobutu         : O     O\n",
            "Mobutu         : O     O\n",
            "Mobutu         : O     O\n",
            "Mobutu         : O     O\n",
            "Mobutu         : O     O\n",
            "Mobutu         : O     O\n",
            "Mobutu         : O     O\n",
            "Mobutu         : O     O\n",
            "Mobutu         : O     O\n",
            "Mobutu         : O     O\n",
            "Mobutu         : O     O\n"
          ],
          "name": "stdout"
        }
      ]
    },
    {
      "cell_type": "code",
      "metadata": {
        "id": "3pC5F5NwQ0CX"
      },
      "source": [
        "# Custom Tokenizer\n",
        "re_tok = re.compile(f'([{string.punctuation}“”¨«»®´·º½¾¿¡§£₤‘’])')\n",
        "def tokenize(s): return re_tok.sub(r' \\1 ', s).split()"
      ],
      "execution_count": null,
      "outputs": []
    },
    {
      "cell_type": "code",
      "metadata": {
        "id": "EnPw0ZFGQ0CX"
      },
      "source": [
        "test_sentence=\"In the context of prehistory, antiquity and contemporary indigenous peoples, the title may refer to tribal kingship. Germanic kingship is cognate with Indo-European traditions of tribal rulership (c.f. Indic rājan, Gothic reiks, and Old Irish rí, etc.).\"\n",
        "x_test_sent = pad_sequences(sequences=[[word2idx.get(w, 0) for w in tokenize(test_sentence)]],\n",
        "                            padding=\"post\", value=0, maxlen=max_len)"
      ],
      "execution_count": null,
      "outputs": []
    },
    {
      "cell_type": "code",
      "metadata": {
        "id": "q4i34FplQ0CY",
        "outputId": "3cbe7f99-7b76-42b7-c0ab-bc03429a25d5"
      },
      "source": [
        "p = model.predict(np.array([x_test_sent[0]]))\n",
        "p = np.argmax(p, axis=-1)\n",
        "print(\"{:15}||{}\".format(\"Word\", \"Prediction\"))\n",
        "print(30 * \"=\")\n",
        "for w, pred in zip(tokenize(test_sentence), p[0]):\n",
        "    print(\"{:15}: {:5}\".format(w, tags[pred]))"
      ],
      "execution_count": null,
      "outputs": [
        {
          "output_type": "stream",
          "text": [
            "Word           ||Prediction\n",
            "==============================\n",
            "In             : O    \n",
            "the            : O    \n",
            "context        : B-org\n",
            "of             : O    \n",
            "prehistory     : O    \n",
            ",              : O    \n",
            "antiquity      : O    \n",
            "and            : O    \n",
            "contemporary   : O    \n",
            "indigenous     : O    \n",
            "peoples        : O    \n",
            ",              : O    \n",
            "the            : O    \n",
            "title          : O    \n",
            "may            : O    \n",
            "refer          : O    \n",
            "to             : O    \n",
            "tribal         : O    \n",
            "kingship       : O    \n",
            ".              : O    \n",
            "Germanic       : B-org\n",
            "kingship       : I-org\n",
            "is             : O    \n",
            "cognate        : O    \n",
            "with           : O    \n",
            "Indo           : O    \n",
            "-              : O    \n",
            "European       : O    \n",
            "traditions     : O    \n",
            "of             : O    \n",
            "tribal         : O    \n",
            "rulership      : O    \n",
            "(              : O    \n",
            "c              : B-org\n",
            ".              : O    \n",
            "f              : B-geo\n",
            ".              : O    \n",
            "Indic          : B-geo\n",
            "rājan          : I-geo\n",
            ",              : O    \n",
            "Gothic         : B-geo\n",
            "reiks          : I-geo\n",
            ",              : I-geo\n",
            "and            : B-tim\n",
            "Old            : I-tim\n",
            "Irish          : I-tim\n",
            "rí             : B-gpe\n",
            ",              : O    \n",
            "etc            : B-geo\n",
            ".              : O    \n",
            ")              : B-geo\n",
            ".              : B-tim\n"
          ],
          "name": "stdout"
        }
      ]
    },
    {
      "cell_type": "code",
      "metadata": {
        "id": "R5Dk14srQ0CY"
      },
      "source": [
        "# our code start from here...............................................................\n",
        "import tensorflow as tf\n",
        "import tensorflow_hub as hub\n",
        "import numpy as np\n",
        "from keras.models import Sequential\n",
        "from keras.layers import Dense, Embedding, LSTM\n",
        "from keras.layers import Bidirectional\n",
        "from numpy import array\n",
        "import spacy\n",
        "import pandas as pd\n",
        "import random\n",
        "\n",
        "\n",
        "#from config import *\n",
        "lstm_unit=64\n",
        "epochs=10\n",
        "loss='categorical_crossentropy'\n",
        "optimizer='adam'\n",
        "module_url = \"https://tfhub.dev/google/universal-sentence-encoder/4\"\n",
        "sentence=\"Perfect your shooting skills with the Spalding Back Atcha Ball Return Training Aid. Designed with solo practice days in mind, this training aid attaches to your rim and serves the ball right back to you after your shot goes down.THE ATKINS MISSION. Atkins’ purpose is to improve global health and to help people understand that eating right is about both losing weight and becoming healthy. That’s done through the use of imagination, innovation, partnerships and commitment to science to make it easy to eat right. VANILLA LATTE SHAKE. Atkins protein shakes help support your low carb lifestyle without compromising flavor. Made with real instant coffee and sweet vanilla flavor, this gluten free iced coffee shake delivers the boost and flavor you crave with none of the guilt. For a quick breakfast or a mid-day recharge, reach for this keto-friendly** shake to satisfy hunger. **When used with Atkins ketogenic programs WHAT’S INSIDE. Let this rich and creamy shake delight your taste buds while delivering essential vitamins and minerals and as much caffeine as a cup of coffee*. Includes 3 packs, each with 4 ready-to-drink 11 oz shakes with 15 grams of high-quality protein, 5 grams of fiber, 4 grams of net carbs and 1 gram of sugar per serving. *Caffeine content per shake as compared to a standard 8 fl oz cup of brewed coffee EAT RIGHT. NOT LESS. Cardiologist Dr. Robert C. Atkins saw that eating right, not less, improved his patients’ health - not just in terms of weight loss but also reducing chronic issues. Over the last 45 years, mounting evidence is revealing that Dr. Atkins was right. PUBLIC HEALTH ADVOCACY. The “Atkins Diet” started as a fad, but quickly became a counter-conventional movement that reset people’s understanding of nutrition and weight loss, and its link to health. Atkins public health advocacy has played a significant role in updating dietary guidelines, moving them from less and towards right.\"\n",
        "\n",
        "nlp = spacy.load('en_core_web_sm')\n",
        "model_emb = hub.load(module_url)\n",
        "sentences = [str(i) for i in nlp(sentence).sents]\n",
        "y=array([random.randint(0,1) for i in range(len(sentences))])"
      ],
      "execution_count": null,
      "outputs": []
    },
    {
      "cell_type": "code",
      "metadata": {
        "id": "JpI0bYzCQ0CZ",
        "outputId": "6008e2ef-ab2f-4787-bbe4-caf98677938a"
      },
      "source": [
        "!pip show spacy"
      ],
      "execution_count": null,
      "outputs": [
        {
          "output_type": "stream",
          "text": [
            "Name: spacy\r\n",
            "Version: 2.2.3\r\n",
            "Summary: Industrial-strength Natural Language Processing (NLP) in Python\r\n",
            "Home-page: https://spacy.io\r\n",
            "Author: Explosion\r\n",
            "Author-email: contact@explosion.ai\r\n",
            "License: MIT\r\n",
            "Location: /opt/conda/lib/python3.6/site-packages\r\n",
            "Requires: wasabi, srsly, setuptools, thinc, requests, preshed, numpy, murmurhash, catalogue, plac, cymem, blis\r\n",
            "Required-by: pykoko, fastai, en-core-web-sm, en-core-web-lg, allennlp\r\n"
          ],
          "name": "stdout"
        }
      ]
    },
    {
      "cell_type": "code",
      "metadata": {
        "id": "dMaotbcKQ0CZ"
      },
      "source": [
        "from keras.preprocessing.sequence import pad_sequences\n",
        "max_len=75\n",
        "embedding=40\n",
        "unique_words=set()\n",
        "for sen in sentences:\n",
        "    words=sen.split(\" \")\n",
        "    words=set(words)\n",
        "    unique_words=unique_words.union(words)\n",
        "\n",
        "word2inx={i:j+1 for j, i in enumerate(unique_words)}\n",
        "\n",
        "X = [[word2inx[w] for w in s.split(\" \")] for s in sentences]\n",
        "X = pad_sequences(maxlen = max_len, sequences = X, padding = \"post\", value = len(word2inx)+1)\n",
        "y_label=[[random.randint(0,1) for i in range(75)] for j in range(25)]\n",
        "X=array(X)"
      ],
      "execution_count": null,
      "outputs": []
    },
    {
      "cell_type": "code",
      "metadata": {
        "id": "YVspsao8Q0Ca"
      },
      "source": [
        "y = [to_categorical(i, num_classes=2) for i in y_label]\n",
        "y_label=array(y).reshape(25,75,2)"
      ],
      "execution_count": null,
      "outputs": []
    },
    {
      "cell_type": "code",
      "metadata": {
        "id": "rdJhK1MsQ0Ca",
        "outputId": "acb5d528-36ee-4af2-ca03-92fcee3b41d7"
      },
      "source": [
        "len(y_label)"
      ],
      "execution_count": null,
      "outputs": [
        {
          "output_type": "execute_result",
          "data": {
            "text/plain": [
              "25"
            ]
          },
          "metadata": {
            "tags": []
          },
          "execution_count": 45
        }
      ]
    },
    {
      "cell_type": "code",
      "metadata": {
        "id": "ibvnaiBXQ0Ca",
        "outputId": "b7ee2a30-6715-405e-d7fd-fe1022f96410"
      },
      "source": [
        "model = Sequential()\n",
        "model.add(Embedding(input_dim = 75, output_dim = embedding, input_length = max_len))\n",
        "model.add(Bidirectional(LSTM(units = 50, return_sequences=True, recurrent_dropout=0.1)))\n",
        "model.add(Bidirectional(LSTM(units = 50, return_sequences=True, recurrent_dropout=0.1)))\n",
        "model.add(TimeDistributed(Dense(50, activation=\"relu\")))\n",
        "crf_layer = CRF(2)\n",
        "model.add(crf_layer)\n",
        "model.compile(optimizer='adam', loss=crf_layer.loss_function, metrics=[crf_layer.accuracy])\n",
        "\n",
        "model.summary()\n"
      ],
      "execution_count": null,
      "outputs": [
        {
          "output_type": "stream",
          "text": [
            "/opt/conda/lib/python3.6/site-packages/keras_contrib/layers/crf.py:346: UserWarning: CRF.loss_function is deprecated and it might be removed in the future. Please use losses.crf_loss instead.\n",
            "  warnings.warn('CRF.loss_function is deprecated '\n",
            "/opt/conda/lib/python3.6/site-packages/keras_contrib/layers/crf.py:353: UserWarning: CRF.accuracy is deprecated and it might be removed in the future. Please use metrics.crf_accuracy\n",
            "  warnings.warn('CRF.accuracy is deprecated and it '\n"
          ],
          "name": "stderr"
        },
        {
          "output_type": "stream",
          "text": [
            "Model: \"sequential_2\"\n",
            "_________________________________________________________________\n",
            "Layer (type)                 Output Shape              Param #   \n",
            "=================================================================\n",
            "embedding_2 (Embedding)      (None, 75, 40)            3000      \n",
            "_________________________________________________________________\n",
            "bidirectional_2 (Bidirection (None, 75, 100)           36400     \n",
            "_________________________________________________________________\n",
            "bidirectional_3 (Bidirection (None, 75, 100)           60400     \n",
            "_________________________________________________________________\n",
            "time_distributed_2 (TimeDist (None, 75, 50)            5050      \n",
            "_________________________________________________________________\n",
            "crf_2 (CRF)                  (None, 75, 2)             110       \n",
            "=================================================================\n",
            "Total params: 104,960\n",
            "Trainable params: 104,960\n",
            "Non-trainable params: 0\n",
            "_________________________________________________________________\n"
          ],
          "name": "stdout"
        }
      ]
    },
    {
      "cell_type": "code",
      "metadata": {
        "id": "_VPZHaQ_Q0Cb",
        "outputId": "f1195dd8-0c3c-4e77-cbf6-910b6dca0a0c"
      },
      "source": [
        "crf_layer.loss_function"
      ],
      "execution_count": null,
      "outputs": [
        {
          "output_type": "execute_result",
          "data": {
            "text/plain": [
              "<function keras_contrib.losses.crf_losses.crf_loss(y_true, y_pred)>"
            ]
          },
          "metadata": {
            "tags": []
          },
          "execution_count": 47
        }
      ]
    },
    {
      "cell_type": "code",
      "metadata": {
        "id": "XKh4PYrdQ0Cb",
        "outputId": "45d5a7d0-c741-46b0-b775-f5ee68f69a18"
      },
      "source": [
        "y_label.shape"
      ],
      "execution_count": null,
      "outputs": [
        {
          "output_type": "execute_result",
          "data": {
            "text/plain": [
              "(25, 75, 2)"
            ]
          },
          "metadata": {
            "tags": []
          },
          "execution_count": 48
        }
      ]
    },
    {
      "cell_type": "code",
      "metadata": {
        "id": "8PssGyPZQ0Cb",
        "outputId": "c118346c-f862-4d75-b1b7-5fea8af3eefc"
      },
      "source": [
        "model.fit(X,y_label, epochs=10)"
      ],
      "execution_count": null,
      "outputs": [
        {
          "output_type": "stream",
          "text": [
            "/opt/conda/lib/python3.6/site-packages/tensorflow_core/python/framework/indexed_slices.py:433: UserWarning: Converting sparse IndexedSlices to a dense Tensor of unknown shape. This may consume a large amount of memory.\n",
            "  \"Converting sparse IndexedSlices to a dense Tensor of unknown shape. \"\n"
          ],
          "name": "stderr"
        },
        {
          "output_type": "stream",
          "text": [
            "Epoch 1/10\n",
            "25/25 [==============================] - 3s 119ms/step - loss: 1.0367 - crf_viterbi_accuracy: 0.5077\n",
            "Epoch 2/10\n",
            "25/25 [==============================] - 0s 14ms/step - loss: 1.0246 - crf_viterbi_accuracy: 0.5077\n",
            "Epoch 3/10\n",
            "25/25 [==============================] - 0s 14ms/step - loss: 1.0084 - crf_viterbi_accuracy: 0.5077\n",
            "Epoch 4/10\n",
            "25/25 [==============================] - 0s 15ms/step - loss: 0.9878 - crf_viterbi_accuracy: 0.5077\n",
            "Epoch 5/10\n",
            "25/25 [==============================] - 0s 13ms/step - loss: 0.9629 - crf_viterbi_accuracy: 0.5077\n",
            "Epoch 6/10\n",
            "25/25 [==============================] - 0s 14ms/step - loss: 0.9332 - crf_viterbi_accuracy: 0.5077\n",
            "Epoch 7/10\n",
            "25/25 [==============================] - 0s 14ms/step - loss: 0.8974 - crf_viterbi_accuracy: 0.5077\n",
            "Epoch 8/10\n",
            "25/25 [==============================] - 0s 13ms/step - loss: 0.8577 - crf_viterbi_accuracy: 0.5077\n",
            "Epoch 9/10\n",
            "25/25 [==============================] - 0s 13ms/step - loss: 0.8174 - crf_viterbi_accuracy: 0.5077\n",
            "Epoch 10/10\n",
            "25/25 [==============================] - 0s 14ms/step - loss: 0.7943 - crf_viterbi_accuracy: 0.5008\n"
          ],
          "name": "stdout"
        },
        {
          "output_type": "execute_result",
          "data": {
            "text/plain": [
              "<keras.callbacks.callbacks.History at 0x7fb17fd7b9b0>"
            ]
          },
          "metadata": {
            "tags": []
          },
          "execution_count": 49
        }
      ]
    },
    {
      "cell_type": "code",
      "metadata": {
        "id": "WR1Yx1FwQ0Cb"
      },
      "source": [
        ""
      ],
      "execution_count": null,
      "outputs": []
    }
  ]
}